import pandas as pd
import matplotlib.pyplot as plt

df = pd.read_csv('../processed/cleaned_data.csv')
impact = df.groupby('is_incident')['revenue_loss'].sum()
impact.plot(kind='bar')
plt.title('Revenue Loss by Incident Status')
plt.show()
